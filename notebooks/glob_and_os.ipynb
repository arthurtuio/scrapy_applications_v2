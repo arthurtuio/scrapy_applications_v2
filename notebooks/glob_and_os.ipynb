{
 "cells": [
  {
   "cell_type": "code",
   "execution_count": 1,
   "id": "ongoing-brook",
   "metadata": {},
   "outputs": [],
   "source": [
    "import os\n",
    "import glob"
   ]
  },
  {
   "cell_type": "code",
   "execution_count": 2,
   "id": "driven-bobby",
   "metadata": {},
   "outputs": [],
   "source": [
    "def _base_project_folder():\n",
    "    return \"/home/arthur/personal_projects/clone_scrapy_celesc_v2/scrapy_applications_v2/\"\n",
    "\n",
    "PDF_DOWNLOADS_FOLDER = _base_project_folder() + \"project_folder/downloads/\""
   ]
  },
  {
   "cell_type": "code",
   "execution_count": 6,
   "id": "express-delicious",
   "metadata": {},
   "outputs": [
    {
     "data": {
      "text/plain": [
       "['/home/arthur/personal_projects/clone_scrapy_celesc_v2/scrapy_applications_v2/project_folder/downloads/liro_liro_sturt_liro13',\n",
       " '/home/arthur/personal_projects/clone_scrapy_celesc_v2/scrapy_applications_v2/project_folder/downloads/ex_p_fp_te_tusd.pdf',\n",
       " '/home/arthur/personal_projects/clone_scrapy_celesc_v2/scrapy_applications_v2/project_folder/downloads/liro_liro_sturt_liro28',\n",
       " '/home/arthur/personal_projects/clone_scrapy_celesc_v2/scrapy_applications_v2/project_folder/downloads/liro_liro_sturt_liro53',\n",
       " '/home/arthur/personal_projects/clone_scrapy_celesc_v2/scrapy_applications_v2/project_folder/downloads/liro_liro_sturt_liro34',\n",
       " '/home/arthur/personal_projects/clone_scrapy_celesc_v2/scrapy_applications_v2/project_folder/downloads/liro_liro_sturt_liro22',\n",
       " '/home/arthur/personal_projects/clone_scrapy_celesc_v2/scrapy_applications_v2/project_folder/downloads/liro_liro_sturt_liro52',\n",
       " '/home/arthur/personal_projects/clone_scrapy_celesc_v2/scrapy_applications_v2/project_folder/downloads/liro_liro_sturt_liro33',\n",
       " '/home/arthur/personal_projects/clone_scrapy_celesc_v2/scrapy_applications_v2/project_folder/downloads/liro_liro_sturt_liro23',\n",
       " '/home/arthur/personal_projects/clone_scrapy_celesc_v2/scrapy_applications_v2/project_folder/downloads/liro_liro_sturt_liro24',\n",
       " '/home/arthur/personal_projects/clone_scrapy_celesc_v2/scrapy_applications_v2/project_folder/downloads/liro_liro_sturt_liro50',\n",
       " '/home/arthur/personal_projects/clone_scrapy_celesc_v2/scrapy_applications_v2/project_folder/downloads/liro_liro_sturt_liro44',\n",
       " '/home/arthur/personal_projects/clone_scrapy_celesc_v2/scrapy_applications_v2/project_folder/downloads/liro_liro_sturt_liro46',\n",
       " '/home/arthur/personal_projects/clone_scrapy_celesc_v2/scrapy_applications_v2/project_folder/downloads/liro_liro_sturt_liro12',\n",
       " '/home/arthur/personal_projects/clone_scrapy_celesc_v2/scrapy_applications_v2/project_folder/downloads/liro_liro_sturt_liro48',\n",
       " '/home/arthur/personal_projects/clone_scrapy_celesc_v2/scrapy_applications_v2/project_folder/downloads/liro_liro_sturt_liro5',\n",
       " '/home/arthur/personal_projects/clone_scrapy_celesc_v2/scrapy_applications_v2/project_folder/downloads/liro_liro_sturt_liro49',\n",
       " '/home/arthur/personal_projects/clone_scrapy_celesc_v2/scrapy_applications_v2/project_folder/downloads/liro_liro_sturt_liro11',\n",
       " '/home/arthur/personal_projects/clone_scrapy_celesc_v2/scrapy_applications_v2/project_folder/downloads/liro_liro_sturt_liro47',\n",
       " '/home/arthur/personal_projects/clone_scrapy_celesc_v2/scrapy_applications_v2/project_folder/downloads/liro_liro_sturt_liro41',\n",
       " '/home/arthur/personal_projects/clone_scrapy_celesc_v2/scrapy_applications_v2/project_folder/downloads/liro_liro_sturt_liro8',\n",
       " '/home/arthur/personal_projects/clone_scrapy_celesc_v2/scrapy_applications_v2/project_folder/downloads/liro_liro_sturt_liro1',\n",
       " '/home/arthur/personal_projects/clone_scrapy_celesc_v2/scrapy_applications_v2/project_folder/downloads/liro_liro_sturt_liro4',\n",
       " '/home/arthur/personal_projects/clone_scrapy_celesc_v2/scrapy_applications_v2/project_folder/downloads/liro_liro_sturt_liro27',\n",
       " '/home/arthur/personal_projects/clone_scrapy_celesc_v2/scrapy_applications_v2/project_folder/downloads/liro_liro_sturt_liro20',\n",
       " '/home/arthur/personal_projects/clone_scrapy_celesc_v2/scrapy_applications_v2/project_folder/downloads/liro_liro_sturt_liro10',\n",
       " '/home/arthur/personal_projects/clone_scrapy_celesc_v2/scrapy_applications_v2/project_folder/downloads/liro_liro_sturt_liro6',\n",
       " '/home/arthur/personal_projects/clone_scrapy_celesc_v2/scrapy_applications_v2/project_folder/downloads/liro_liro_sturt_liro14',\n",
       " '/home/arthur/personal_projects/clone_scrapy_celesc_v2/scrapy_applications_v2/project_folder/downloads/liro_liro_sturt_liro21',\n",
       " '/home/arthur/personal_projects/clone_scrapy_celesc_v2/scrapy_applications_v2/project_folder/downloads/liro_liro_sturt_liro15',\n",
       " '/home/arthur/personal_projects/clone_scrapy_celesc_v2/scrapy_applications_v2/project_folder/downloads/liro_liro_sturt_liro38',\n",
       " '/home/arthur/personal_projects/clone_scrapy_celesc_v2/scrapy_applications_v2/project_folder/downloads/liro_liro_sturt_liro25',\n",
       " '/home/arthur/personal_projects/clone_scrapy_celesc_v2/scrapy_applications_v2/project_folder/downloads/liro_liro_sturt_liro19',\n",
       " '/home/arthur/personal_projects/clone_scrapy_celesc_v2/scrapy_applications_v2/project_folder/downloads/liro_liro_sturt_liro26',\n",
       " '/home/arthur/personal_projects/clone_scrapy_celesc_v2/scrapy_applications_v2/project_folder/downloads/liro_liro_sturt_liro35',\n",
       " '/home/arthur/personal_projects/clone_scrapy_celesc_v2/scrapy_applications_v2/project_folder/downloads/liro_liro_sturt_liro31',\n",
       " '/home/arthur/personal_projects/clone_scrapy_celesc_v2/scrapy_applications_v2/project_folder/downloads/liro_liro_sturt_liro37',\n",
       " '/home/arthur/personal_projects/clone_scrapy_celesc_v2/scrapy_applications_v2/project_folder/downloads/liro_liro_sturt_liro51',\n",
       " '/home/arthur/personal_projects/clone_scrapy_celesc_v2/scrapy_applications_v2/project_folder/downloads/liro_liro_sturt_liro43',\n",
       " '/home/arthur/personal_projects/clone_scrapy_celesc_v2/scrapy_applications_v2/project_folder/downloads/liro_liro_sturt_liro42',\n",
       " '/home/arthur/personal_projects/clone_scrapy_celesc_v2/scrapy_applications_v2/project_folder/downloads/liro_liro_sturt_liro9',\n",
       " '/home/arthur/personal_projects/clone_scrapy_celesc_v2/scrapy_applications_v2/project_folder/downloads/liro_liro_sturt_liro17',\n",
       " '/home/arthur/personal_projects/clone_scrapy_celesc_v2/scrapy_applications_v2/project_folder/downloads/liro_liro_sturt_liro3',\n",
       " '/home/arthur/personal_projects/clone_scrapy_celesc_v2/scrapy_applications_v2/project_folder/downloads/liro_liro_sturt_liro30',\n",
       " '/home/arthur/personal_projects/clone_scrapy_celesc_v2/scrapy_applications_v2/project_folder/downloads/liro_liro_sturt_liro36',\n",
       " '/home/arthur/personal_projects/clone_scrapy_celesc_v2/scrapy_applications_v2/project_folder/downloads/liro_liro_sturt_liro45',\n",
       " '/home/arthur/personal_projects/clone_scrapy_celesc_v2/scrapy_applications_v2/project_folder/downloads/liro_liro_sturt_liro18',\n",
       " '/home/arthur/personal_projects/clone_scrapy_celesc_v2/scrapy_applications_v2/project_folder/downloads/liro_liro_sturt_liro16',\n",
       " '/home/arthur/personal_projects/clone_scrapy_celesc_v2/scrapy_applications_v2/project_folder/downloads/liro_liro_sturt_liro7',\n",
       " '/home/arthur/personal_projects/clone_scrapy_celesc_v2/scrapy_applications_v2/project_folder/downloads/liro_liro_sturt_liro39',\n",
       " '/home/arthur/personal_projects/clone_scrapy_celesc_v2/scrapy_applications_v2/project_folder/downloads/liro_liro_sturt_liro32',\n",
       " '/home/arthur/personal_projects/clone_scrapy_celesc_v2/scrapy_applications_v2/project_folder/downloads/liro_liro_sturt_liro2',\n",
       " '/home/arthur/personal_projects/clone_scrapy_celesc_v2/scrapy_applications_v2/project_folder/downloads/liro_liro_sturt_liro29',\n",
       " '/home/arthur/personal_projects/clone_scrapy_celesc_v2/scrapy_applications_v2/project_folder/downloads/liro_liro_sturt_liro40']"
      ]
     },
     "execution_count": 6,
     "metadata": {},
     "output_type": "execute_result"
    }
   ],
   "source": [
    "glob.glob(PDF_DOWNLOADS_FOLDER + '*')"
   ]
  },
  {
   "cell_type": "code",
   "execution_count": null,
   "id": "minor-average",
   "metadata": {},
   "outputs": [],
   "source": []
  }
 ],
 "metadata": {
  "kernelspec": {
   "display_name": "Python 3",
   "language": "python",
   "name": "python3"
  },
  "language_info": {
   "codemirror_mode": {
    "name": "ipython",
    "version": 3
   },
   "file_extension": ".py",
   "mimetype": "text/x-python",
   "name": "python",
   "nbconvert_exporter": "python",
   "pygments_lexer": "ipython3",
   "version": "3.6.9"
  }
 },
 "nbformat": 4,
 "nbformat_minor": 5
}
