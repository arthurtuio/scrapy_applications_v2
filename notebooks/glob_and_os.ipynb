{
 "cells": [
  {
   "cell_type": "code",
   "execution_count": 1,
   "id": "ongoing-brook",
   "metadata": {},
   "outputs": [],
   "source": [
    "import os\n",
    "import glob"
   ]
  },
  {
   "cell_type": "code",
   "execution_count": 2,
   "id": "driven-bobby",
   "metadata": {},
   "outputs": [],
   "source": [
    "def _base_project_folder():\n",
    "    return \"/home/arthur/personal_projects/clone_scrapy_celesc_v2/scrapy_applications_v2/\"\n",
    "\n",
    "PDF_DOWNLOADS_FOLDER = _base_project_folder() + \"project_folder/downloads/\""
   ]
  },
  {
   "cell_type": "code",
   "execution_count": 6,
   "id": "express-delicious",
   "metadata": {},
   "outputs": [
    {
     "data": {
      "text/plain": [
       "['/home/arthur/personal_projects/clone_scrapy_celesc_v2/scrapy_applications_v2/project_folder/downloads/liro_liro_sturt_liro13',\n",
       " '/home/arthur/personal_projects/clone_scrapy_celesc_v2/scrapy_applications_v2/project_folder/downloads/ex_p_fp_te_tusd.pdf',\n",
       " '/home/arthur/personal_projects/clone_scrapy_celesc_v2/scrapy_applications_v2/project_folder/downloads/liro_liro_sturt_liro28',\n",
       " '/home/arthur/personal_projects/clone_scrapy_celesc_v2/scrapy_applications_v2/project_folder/downloads/liro_liro_sturt_liro53',\n",
       " '/home/arthur/personal_projects/clone_scrapy_celesc_v2/scrapy_applications_v2/project_folder/downloads/liro_liro_sturt_liro34',\n",
       " '/home/arthur/personal_projects/clone_scrapy_celesc_v2/scrapy_applications_v2/project_folder/downloads/liro_liro_sturt_liro22',\n",
       " '/home/arthur/personal_projects/clone_scrapy_celesc_v2/scrapy_applications_v2/project_folder/downloads/liro_liro_sturt_liro52',\n",
       " '/home/arthur/personal_projects/clone_scrapy_celesc_v2/scrapy_applications_v2/project_folder/downloads/liro_liro_sturt_liro33',\n",
       " '/home/arthur/personal_projects/clone_scrapy_celesc_v2/scrapy_applications_v2/project_folder/downloads/liro_liro_sturt_liro23',\n",
       " '/home/arthur/personal_projects/clone_scrapy_celesc_v2/scrapy_applications_v2/project_folder/downloads/liro_liro_sturt_liro24',\n",
       " '/home/arthur/personal_projects/clone_scrapy_celesc_v2/scrapy_applications_v2/project_folder/downloads/liro_liro_sturt_liro50',\n",
       " '/home/arthur/personal_projects/clone_scrapy_celesc_v2/scrapy_applications_v2/project_folder/downloads/liro_liro_sturt_liro44',\n",
       " '/home/arthur/personal_projects/clone_scrapy_celesc_v2/scrapy_applications_v2/project_folder/downloads/liro_liro_sturt_liro46',\n",
       " '/home/arthur/personal_projects/clone_scrapy_celesc_v2/scrapy_applications_v2/project_folder/downloads/liro_liro_sturt_liro12',\n",
       " '/home/arthur/personal_projects/clone_scrapy_celesc_v2/scrapy_applications_v2/project_folder/downloads/liro_liro_sturt_liro48',\n",
       " '/home/arthur/personal_projects/clone_scrapy_celesc_v2/scrapy_applications_v2/project_folder/downloads/liro_liro_sturt_liro5',\n",
       " '/home/arthur/personal_projects/clone_scrapy_celesc_v2/scrapy_applications_v2/project_folder/downloads/liro_liro_sturt_liro49',\n",
       " '/home/arthur/personal_projects/clone_scrapy_celesc_v2/scrapy_applications_v2/project_folder/downloads/liro_liro_sturt_liro11',\n",
       " '/home/arthur/personal_projects/clone_scrapy_celesc_v2/scrapy_applications_v2/project_folder/downloads/liro_liro_sturt_liro47',\n",
       " '/home/arthur/personal_projects/clone_scrapy_celesc_v2/scrapy_applications_v2/project_folder/downloads/liro_liro_sturt_liro41',\n",
       " '/home/arthur/personal_projects/clone_scrapy_celesc_v2/scrapy_applications_v2/project_folder/downloads/liro_liro_sturt_liro8',\n",
       " '/home/arthur/personal_projects/clone_scrapy_celesc_v2/scrapy_applications_v2/project_folder/downloads/liro_liro_sturt_liro1',\n",
       " '/home/arthur/personal_projects/clone_scrapy_celesc_v2/scrapy_applications_v2/project_folder/downloads/liro_liro_sturt_liro4',\n",
       " '/home/arthur/personal_projects/clone_scrapy_celesc_v2/scrapy_applications_v2/project_folder/downloads/liro_liro_sturt_liro27',\n",
       " '/home/arthur/personal_projects/clone_scrapy_celesc_v2/scrapy_applications_v2/project_folder/downloads/liro_liro_sturt_liro20',\n",
       " '/home/arthur/personal_projects/clone_scrapy_celesc_v2/scrapy_applications_v2/project_folder/downloads/liro_liro_sturt_liro10',\n",
       " '/home/arthur/personal_projects/clone_scrapy_celesc_v2/scrapy_applications_v2/project_folder/downloads/liro_liro_sturt_liro6',\n",
       " '/home/arthur/personal_projects/clone_scrapy_celesc_v2/scrapy_applications_v2/project_folder/downloads/liro_liro_sturt_liro14',\n",
       " '/home/arthur/personal_projects/clone_scrapy_celesc_v2/scrapy_applications_v2/project_folder/downloads/liro_liro_sturt_liro21',\n",
       " '/home/arthur/personal_projects/clone_scrapy_celesc_v2/scrapy_applications_v2/project_folder/downloads/liro_liro_sturt_liro15',\n",
       " '/home/arthur/personal_projects/clone_scrapy_celesc_v2/scrapy_applications_v2/project_folder/downloads/liro_liro_sturt_liro38',\n",
       " '/home/arthur/personal_projects/clone_scrapy_celesc_v2/scrapy_applications_v2/project_folder/downloads/liro_liro_sturt_liro25',\n",
       " '/home/arthur/personal_projects/clone_scrapy_celesc_v2/scrapy_applications_v2/project_folder/downloads/liro_liro_sturt_liro19',\n",
       " '/home/arthur/personal_projects/clone_scrapy_celesc_v2/scrapy_applications_v2/project_folder/downloads/liro_liro_sturt_liro26',\n",
       " '/home/arthur/personal_projects/clone_scrapy_celesc_v2/scrapy_applications_v2/project_folder/downloads/liro_liro_sturt_liro35',\n",
       " '/home/arthur/personal_projects/clone_scrapy_celesc_v2/scrapy_applications_v2/project_folder/downloads/liro_liro_sturt_liro31',\n",
       " '/home/arthur/personal_projects/clone_scrapy_celesc_v2/scrapy_applications_v2/project_folder/downloads/liro_liro_sturt_liro37',\n",
       " '/home/arthur/personal_projects/clone_scrapy_celesc_v2/scrapy_applications_v2/project_folder/downloads/liro_liro_sturt_liro51',\n",
       " '/home/arthur/personal_projects/clone_scrapy_celesc_v2/scrapy_applications_v2/project_folder/downloads/liro_liro_sturt_liro43',\n",
       " '/home/arthur/personal_projects/clone_scrapy_celesc_v2/scrapy_applications_v2/project_folder/downloads/liro_liro_sturt_liro42',\n",
       " '/home/arthur/personal_projects/clone_scrapy_celesc_v2/scrapy_applications_v2/project_folder/downloads/liro_liro_sturt_liro9',\n",
       " '/home/arthur/personal_projects/clone_scrapy_celesc_v2/scrapy_applications_v2/project_folder/downloads/liro_liro_sturt_liro17',\n",
       " '/home/arthur/personal_projects/clone_scrapy_celesc_v2/scrapy_applications_v2/project_folder/downloads/liro_liro_sturt_liro3',\n",
       " '/home/arthur/personal_projects/clone_scrapy_celesc_v2/scrapy_applications_v2/project_folder/downloads/liro_liro_sturt_liro30',\n",
       " '/home/arthur/personal_projects/clone_scrapy_celesc_v2/scrapy_applications_v2/project_folder/downloads/liro_liro_sturt_liro36',\n",
       " '/home/arthur/personal_projects/clone_scrapy_celesc_v2/scrapy_applications_v2/project_folder/downloads/liro_liro_sturt_liro45',\n",
       " '/home/arthur/personal_projects/clone_scrapy_celesc_v2/scrapy_applications_v2/project_folder/downloads/liro_liro_sturt_liro18',\n",
       " '/home/arthur/personal_projects/clone_scrapy_celesc_v2/scrapy_applications_v2/project_folder/downloads/liro_liro_sturt_liro16',\n",
       " '/home/arthur/personal_projects/clone_scrapy_celesc_v2/scrapy_applications_v2/project_folder/downloads/liro_liro_sturt_liro7',\n",
       " '/home/arthur/personal_projects/clone_scrapy_celesc_v2/scrapy_applications_v2/project_folder/downloads/liro_liro_sturt_liro39',\n",
       " '/home/arthur/personal_projects/clone_scrapy_celesc_v2/scrapy_applications_v2/project_folder/downloads/liro_liro_sturt_liro32',\n",
       " '/home/arthur/personal_projects/clone_scrapy_celesc_v2/scrapy_applications_v2/project_folder/downloads/liro_liro_sturt_liro2',\n",
       " '/home/arthur/personal_projects/clone_scrapy_celesc_v2/scrapy_applications_v2/project_folder/downloads/liro_liro_sturt_liro29',\n",
       " '/home/arthur/personal_projects/clone_scrapy_celesc_v2/scrapy_applications_v2/project_folder/downloads/liro_liro_sturt_liro40']"
      ]
     },
     "execution_count": 6,
     "metadata": {},
     "output_type": "execute_result"
    }
   ],
   "source": [
    "glob.glob(PDF_DOWNLOADS_FOLDER + '*')"
   ]
  },
  {
   "cell_type": "code",
   "execution_count": 13,
   "id": "minor-average",
   "metadata": {},
   "outputs": [],
   "source": [
    "file = '/home/arthur/personal_projects/clone_scrapy_celesc_v2/scrapy_applications_v2/files/txt_files/liro_liro_sturt_liro2.txt'"
   ]
  },
  {
   "cell_type": "code",
   "execution_count": 14,
   "id": "martial-energy",
   "metadata": {},
   "outputs": [
    {
     "name": "stdout",
     "output_type": "stream",
     "text": [
      "['\\n', '\\n', '\\n', '\\n', '\\n', '\\n', '\\n', '\\n', '\\n', '\\n', '\\n', '\\n', '\\n', '\\n', '\\n', '\\n', '\\n', '\\n', '\\n', '\\n', '\\n', '\\n', '\\n', '\\n', '\\n', '\\n', '\\n', '\\n', 'Segunda Via\\n', '\\n', 'Segunda Via\\n', '\\n', 'Segunda Via\\n', '\\n', 'Celesc Distribuicao S.A\\n', 'Av Itamarati, 160 -  - Florianopolis\\n', '\\n', 'CNPJ: 08.336.783/0001-90 Insc.Est.: 255266626\\n', '\\n', 'Conta de\\n', 'Energia Elétrica\\n', '\\n', 'EMISSÃO: 06/09/2016 APRES.: 06/09/2016 NOTA FISCAL/CONTA DE ENERGIA ELÉTRICA - SÉRIE ÚNICA: 000.000.540.671 - FAT-01-20162298980483-20 REF.: 09/2016\\n', '\\n', '............................................................................................................................................................................................................................\\n', '\\n', 'MITRA DIOCESANA DE JOINVILLE\\n', 'CPJ 84.708.478/0043-10\\n', '\\n', 'R MONS GERCINO, 4060\\n', '\\n', 'JARIVATUBA - JVE - JOINVILLE - SC - 89230-290\\n', '\\n', 'Classificação: COMERCIAL, SERVICOS, OUTRAS ATIVIDADES / CONVENCIONAL / TRIFASICO\\n', 'Tensão nominal ou contratada (V): 220\\n', 'Limites adequados de tensão (V): 202 a 231\\n', 'Grupo de Tensão: B Tipo de Tarifa: Convencional\\n', '\\n', 'DADOS DA MEDIÇÃO\\n', '\\n', 'Equipamento: MD 629589\\n', 'Unidade de medida: kWh\\n', 'Origem da leitura atual: LIDA\\n', 'Data da leitura anterior: 04/08/2016\\n', 'Data da leitura atual: 06/09/2016\\n', 'Data da próxima leitura: 06/10/2016\\n', 'Número de dias faturados: 33\\n', 'Leitura atual: 6238\\n', 'Leitura anterior: 5940\\n', 'Constante de faturamento: 10,00\\n', 'Consumo medido no mês: 2980\\n', 'Consumo faturado no mês: 2980\\n', 'Fator de potência:\\n', '\\n', 'HISTÓRICO DE CONSUMO DE ENERGIA ELÉTRICA - kWh\\n', 'Set/2015\\n', '\\n', '0\\n', '\\n', 'Out/2015\\n', '\\n', '0\\n', '\\n', 'Nov/2015\\n', '\\n', '0\\n', '\\n', 'Dez/2015\\n', '\\n', '0\\n', '\\n', 'Jan/2016\\n', '\\n', '0\\n', '\\n', 'Fev/2016\\n', '\\n', '0\\n', '\\n', 'Mar/2016\\n', '\\n', '0\\n', '\\n', 'Abr/2016\\n', '\\n', '0\\n', '\\n', 'Mai/2016\\n', '\\n', '0\\n', '\\n', 'Jun/2016\\n', '\\n', '3150\\n', '\\n', 'Jul/2016\\n', '\\n', '3160\\n', '\\n', 'Ago/2016\\n', '\\n', '2470\\n', '\\n', 'Nº DA UNIDADE\\n', 'CONSUMIDORA\\n', '\\n', '2574250\\n', '\\n', 'VENCIMENTO\\n', '24/09/2016\\n', '\\n', 'ATENDIMENTO AO CLIENTE\\n', 'LIGUE\\n', '\\n', '0800 048 0120\\n', '\\n', 'CONSUMO TOTAL FATURADO\\n', '\\n', '2.980 kWh\\n', 'VALOR ATÉ O VENCIMENTO\\n', '\\n', 'R$ 1.882,23\\n', '\\n', 'Mensagens:\\n', '\\n', 'Periodos Band.Tarif.: Verde:05/08-06/09\\n', 'Agencia Nacional de Energia Eletrica - ANEEL. 167 - Ligacao Gratuita de telefones\\n', 'fixos e moveis.\\n', 'Lugar de crianca e na escola. Diga nao ao trabalho infantil.\\n', 'Cancele Convenios a qualquer momento na Celesc e solicite nova fatura sem estas\\n', 'cobrancas.\\n', '\\n', 'Dados do Faturamento Faturado Tarifa (R$) Valor (R$)\\n', '\\n', 'Subtotal (R$)\\n', '\\n', 'Lançamentos e Serviços\\n', '\\n', 'Subtotal (R$)\\n', '\\n', 'Consumo\\n', '\\n', 'Cosip\\n', '\\n', '2.980 0,628074 1.871,66\\n', '\\n', '10,57\\n', '\\n', '1.871,66\\n', '\\n', '10,57\\n', '\\n', 'Composição do Preço em R$ (Art. 31, Res. 166/05):\\n', 'DISTRIBUICAO\\n', '\\n', '261,45\\n', '\\n', 'ENC. SETORIAIS\\n', '\\n', '296,18\\n', '\\n', 'ENERGIA\\n', '\\n', '703,89\\n', '\\n', 'TRANSMISSAO\\n', '\\n', '43,97\\n', '\\n', 'TRIBUTOS\\n', '\\n', '566,17\\n', '\\n', 'Soma Demonstr.\\n', '\\n', '1.871,66\\n', '\\n', 'INCIDIRÃO SOBRE A CONTA PAGA APÓS O VENCIMENTO MULTA DE 2%, JUROS DE\\n', 'MORA DE 0,0333% AO DIA (CONF. LEI 10.438/02) E ATUALIZAÇÃO MONETÁRIA COM\\n', 'BASE NO IGP-M A SEREM INCLUÍDOS NA PRÓXIMA CONTA.\\n', '\\n', 'INFORMAÇÃO DE TRIBUTOS\\n', '\\n', 'TRIBUTOS BASE DE CÁLCULO ALÍQUOTA VALOR DO IMPOSTO\\n', '\\n', 'ICMS\\n', '\\n', 'COFINS\\n', '\\n', 'PIS/PASEP\\n', '\\n', 'R$ R$\\n', '\\n', 'R$\\n', '\\n', 'R$\\n', '\\n', 'R$\\n', '\\n', 'R$\\n', '\\n', '1.871,66 25,00% 467,91\\n', '\\n', '1.871,67 %4,31%% 80,67\\n', '\\n', '1.871,67 %%0,94% 17,59\\n', '\\n', 'RESERVADO AO FISCO PERÍODO FISCAL: 06/09/2016\\n', '\\n', 'C1E6.4CE6.763E.EECB.CCB0.EEA8.658E.5D89\\n', '\\n', 'Celesc Distribuicao S.A\\n', 'Av Itamarati, 160 -  - Florianopolis\\n', '\\n', 'CNPJ: 08.336.783/0001-90 Insc.Est.: 255266626 EMPRESA\\n', '\\n', 'CEDENTE SACADO ETAPA/LIVRO VENCIMENTO\\n', '\\n', 'DATA DOCUMENTO NÚMERO REFERÊNCIA DATA PROCESSAMENTO UNIDADE CONSUMIDORA REFERÊNCIA VALOR COBRADO (R$)\\n', '\\n', 'CELESC AD CENTRALMITRA DIOCESANA DE JOINVILLE 04/002915 24/09/2016\\n', '\\n', '06/09/2016 FAT-01-20162298980483-20 06/09/2016 2574250 09/2016 1.882,23\\n', '\\n', 'NÃO RECEBER - FATURA ARRECADADA\\n', '\\n', 'GBCELESC2 (V1.01)\\n', '\\n', '\\n']\n"
     ]
    }
   ],
   "source": [
    "f = open(file, \"r\")\n",
    "print(f.readlines())\n"
   ]
  }
 ],
 "metadata": {
  "kernelspec": {
   "display_name": "Python 3",
   "language": "python",
   "name": "python3"
  },
  "language_info": {
   "codemirror_mode": {
    "name": "ipython",
    "version": 3
   },
   "file_extension": ".py",
   "mimetype": "text/x-python",
   "name": "python",
   "nbconvert_exporter": "python",
   "pygments_lexer": "ipython3",
   "version": "3.6.9"
  }
 },
 "nbformat": 4,
 "nbformat_minor": 5
}
