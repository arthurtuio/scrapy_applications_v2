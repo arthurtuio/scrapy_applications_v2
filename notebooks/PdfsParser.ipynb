{
 "cells": [
  {
   "cell_type": "code",
   "execution_count": 4,
   "id": "ultimate-louis",
   "metadata": {},
   "outputs": [],
   "source": [
    "import os\n",
    "import glob\n",
    "\n",
    "from enum import Enum"
   ]
  },
  {
   "cell_type": "code",
   "execution_count": 5,
   "id": "reported-extraction",
   "metadata": {},
   "outputs": [],
   "source": [
    "def _base_project_folder():\n",
    "    return \"/home/arthur/personal_projects/clone_scrapy_celesc_v2/scrapy_applications_v2/\"\n",
    "    \n",
    "class FolderVariables(Enum):\n",
    "    DOWNLOADS_FOLDER = _base_project_folder() + \"project_folder/downloads/\"\n",
    "    SPIDERS_FOLDER = _base_project_folder() + \"project_folder/spiders\""
   ]
  },
  {
   "cell_type": "code",
   "execution_count": 11,
   "id": "egyptian-gazette",
   "metadata": {},
   "outputs": [],
   "source": [
    "DOWNLOAD_PATH = FolderVariables.DOWNLOADS_FOLDER.value\n",
    "SELECTED_FORMAT = \".pdf\"\n",
    "\n",
    "all_files = glob.glob(DOWNLOAD_PATH + \"*\")\n",
    "\n",
    "all_pdf_files = glob.glob(DOWNLOAD_PATH + \"*\" + SELECTED_FORMAT)\n",
    "\n",
    "for pdf_file in all_pdf_files:\n",
    "    all_files.remove(pdf_file)\n",
    "\n",
    "# print(all_files)"
   ]
  },
  {
   "cell_type": "markdown",
   "id": "polyphonic-example",
   "metadata": {},
   "source": [
    "## Vou limar um arquivo aqui"
   ]
  }
 ],
 "metadata": {
  "kernelspec": {
   "display_name": "Python 3",
   "language": "python",
   "name": "python3"
  },
  "language_info": {
   "codemirror_mode": {
    "name": "ipython",
    "version": 3
   },
   "file_extension": ".py",
   "mimetype": "text/x-python",
   "name": "python",
   "nbconvert_exporter": "python",
   "pygments_lexer": "ipython3",
   "version": "3.6.9"
  }
 },
 "nbformat": 4,
 "nbformat_minor": 5
}
