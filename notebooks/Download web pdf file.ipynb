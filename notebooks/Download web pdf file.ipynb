{
 "cells": [
  {
   "cell_type": "code",
   "execution_count": 1,
   "id": "amateur-gasoline",
   "metadata": {},
   "outputs": [],
   "source": [
    "import requests\n"
   ]
  },
  {
   "cell_type": "code",
   "execution_count": 2,
   "id": "available-actor",
   "metadata": {},
   "outputs": [],
   "source": [
    "url = \"https://agenciaweb.celesc.com.br/AgenciaWeb/imprimirSegundaVia/exibirFat.do?COD_UN_CONS=10303826&COD_CPU=01&NUM_SEQ_OPER=20206187675032&COD_SITU_FAT=N&HISTPAG=1&MES_REF=08/2020\""
   ]
  },
  {
   "cell_type": "code",
   "execution_count": 3,
   "id": "opened-thumbnail",
   "metadata": {},
   "outputs": [],
   "source": [
    "r = requests.get(url, allow_redirects=True)"
   ]
  },
  {
   "cell_type": "code",
   "execution_count": 4,
   "id": "appreciated-links",
   "metadata": {},
   "outputs": [
    {
     "data": {
      "text/plain": [
       "19234"
      ]
     },
     "execution_count": 4,
     "metadata": {},
     "output_type": "execute_result"
    }
   ],
   "source": [
    "# open('teste.pdf', 'wb').write(r.content)\n"
   ]
  },
  {
   "cell_type": "code",
   "execution_count": 5,
   "id": "ideal-sport",
   "metadata": {},
   "outputs": [],
   "source": [
    "import urllib.request\n",
    "pdf_path = url\n",
    "def download_file(download_url, filename):\n",
    "    response = urllib.request.urlopen(download_url)    \n",
    "    file = open(filename + \".pdf\", 'wb')\n",
    "    file.write(response.read())\n",
    "    file.close()\n",
    " \n",
    "download_file(pdf_path, \"Test\")"
   ]
  }
 ],
 "metadata": {
  "kernelspec": {
   "display_name": "Python 3",
   "language": "python",
   "name": "python3"
  },
  "language_info": {
   "codemirror_mode": {
    "name": "ipython",
    "version": 3
   },
   "file_extension": ".py",
   "mimetype": "text/x-python",
   "name": "python",
   "nbconvert_exporter": "python",
   "pygments_lexer": "ipython3",
   "version": "3.6.9"
  }
 },
 "nbformat": 4,
 "nbformat_minor": 5
}
